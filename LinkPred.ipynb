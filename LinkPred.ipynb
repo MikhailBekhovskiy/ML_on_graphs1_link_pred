{
 "cells": [
  {
   "cell_type": "markdown",
   "metadata": {},
   "source": [
    "Беховский М.А. Предсказание появления ребер в темпоральном графе"
   ]
  },
  {
   "cell_type": "code",
   "execution_count": 1,
   "metadata": {},
   "outputs": [],
   "source": [
    "import networkx as nx\n",
    "from sklearn.linear_model import LogisticRegression\n",
    "from sklearn.model_selection import train_test_split\n",
    "from sklearn.metrics import roc_curve, auc\n",
    "from sklearn.preprocessing import StandardScaler\n",
    "import math\n",
    "from tqdm import tqdm\n",
    "import random\n",
    "import matplotlib.pyplot as plt"
   ]
  },
  {
   "cell_type": "markdown",
   "metadata": {},
   "source": [
    "Input file format (edgelist): \n",
    "\n",
    "u   v   w   t\n",
    "\n",
    "Third column (w) is being ignored. \n",
    "\n",
    "Constructor creates networkx multigraph, static version of multigraph, training multigraph slice, static version of the slice.\n",
    "\n",
    "If input graph doesn't have multi-edges, analyzer hardsets to persistent mode (IIB in the Bruin's article), since there is no point in past event aggregation.\n",
    "\n",
    "If graph has multiedges, it's possible to manually switch between discrete events mode (IIA, which considers past event aggregation) and persistent mode (IIB, ignoring aggregation and considering only the latest timestamp among multiedges)\n",
    "\n",
    "Then it selects possible candidates -- node pairs at distance 2 in the slice. Selecting candidates may take some time since it requires finding shortest paths lengths for all node pairs."
   ]
  },
  {
   "cell_type": "code",
   "execution_count": 2,
   "metadata": {},
   "outputs": [],
   "source": [
    "class GraphAnalyzer():\n",
    "    def __init__(self, fpath, \n",
    "    tw=['lin', 'exp', 'sqrt'], \n",
    "    pea=['0-q', '1-q', '2-q', '3-q', '4-q', 'sum', 'mean', 'var'],\n",
    "    wtf=['aa','cn','jc','pa'],\n",
    "    s = 2/3):\n",
    "        with open(fpath) as f:\n",
    "            edgelist = f.readlines()\n",
    "        edgelist = [edge.strip().split() for edge in edgelist]\n",
    "\n",
    "        # this sorting is needed to create training slice while constructing analyzer.\n",
    "        edgelist.sort(key=lambda e: int(e[3]))\n",
    "        self.slice_border = float(edgelist[int(s * len(edgelist))][3])\n",
    "        print(f'Total number of edges {len(edgelist)}')\n",
    "        Gr = nx.MultiGraph()\n",
    "        Gsliced = nx.MultiGraph()\n",
    "        \n",
    "        # static graph variants\n",
    "        GrS = nx.Graph()\n",
    "        GslicedS = nx.Graph()\n",
    "\n",
    "        # lowest and highest timestamps are needed for temporal feature extraction\n",
    "        t_ma = 0.\n",
    "        t_mi = float('inf')\n",
    "\n",
    "        # reading Graphs from file\n",
    "        for edge in edgelist:\n",
    "            u = int(edge[0])\n",
    "            v = int(edge[1])\n",
    "            # no self-loops!\n",
    "            if u != v:\n",
    "                ts = float(edge[3])\n",
    "                if ts < t_mi:\n",
    "                    t_mi = ts\n",
    "                if ts > t_ma:\n",
    "                    t_ma = ts\n",
    "                Gr.add_edge(u,v, t = ts)\n",
    "                if u not in GrS or v not in GrS[u]:\n",
    "                    GrS.add_edge(u,v)\n",
    "                if ts <= self.slice_border:\n",
    "                    Gsliced.add_edge(u, v, t=ts)\n",
    "                    if u not in GslicedS or v not in GslicedS[u] or GslicedS[u][v]['t'] < ts:\n",
    "                        GslicedS.add_edge(u,v, t = ts)\n",
    "\n",
    "        # check for multi edges\n",
    "        self.hard_persistent = True\n",
    "        for u in Gsliced:\n",
    "            for v in Gsliced[u]:\n",
    "                if len(Gsliced[u][v]) > 1:\n",
    "                    self.hard_persistent = False\n",
    "        self.persistent = self.hard_persistent\n",
    "\n",
    "        self.G = Gr\n",
    "        self.G_static = GrS\n",
    "        self.G_slice = Gsliced\n",
    "        self.G_slice_static = GslicedS\n",
    "\n",
    "        self.t_max = t_ma\n",
    "        self.t_min = t_mi\n",
    "\n",
    "        self.temporal_weighting_variants = tw\n",
    "        self.past_event_aggregation_variants = pea\n",
    "        self.weighted_topological_feature_variants = wtf\n",
    "\n",
    "        # list of node-pairs with distance 2 between them\n",
    "        # in training slice\n",
    "        self.candidates = []\n",
    "        checked = set()\n",
    "        self.cand_labels = []\n",
    "        paths = dict(nx.all_pairs_shortest_path_length(GslicedS, cutoff=2))\n",
    "        for u in tqdm(paths):\n",
    "            for v in tqdm(paths[u], leave=False):\n",
    "                if paths[u][v] == 2 and (v,u) not in checked:\n",
    "                    checked.add((u,v))\n",
    "                    self.candidates.append((u,v))\n",
    "                    if v in self.G[u]:\n",
    "                        self.cand_labels.append(1)\n",
    "                    else:\n",
    "                        self.cand_labels.append(0)\n",
    "        self.examples = []\n",
    "        self.ex_labels = []\n",
    "        self.ex_static_features = []\n",
    "        self.ex_temp_features = []\n",
    "        \n",
    "    def switch_persistence(self):\n",
    "        if self.hard_persistent:\n",
    "            print('Persistent by graph. Can\\'t be changed')\n",
    "        elif self.persistent:\n",
    "            self.persistent=False\n",
    "            print('Warning. Manually switched to discrete events mode. Computations will take significantly longer but may be more accurate')\n",
    "        else:\n",
    "            self.persistent = True\n",
    "            print('Warning. Manually switched to persistent mode. Computations will take significantly shorter but may be less accurate')\n",
    "\n",
    "#######################################################\n",
    "# static network features. displaying some features of whole graph. first part of the task\n",
    "#######################################################\n",
    "    def explore_graph(self):\n",
    "        G = self.G_static\n",
    "        ed_num = len(self.G_static.edges())\n",
    "        n_num = len(self.G_static)\n",
    "        density = 2 * ed_num / n_num / (n_num - 1)\n",
    "        cc = list(nx.connected_components(self.G_static))\n",
    "        cc_num = len(cc)\n",
    "        largest_cc = max(cc, key=len)\n",
    "        cc_dens = len(largest_cc) / n_num\n",
    "        H = G.subgraph(largest_cc).copy()\n",
    "        print(f' Статический граф: ')\n",
    "        print(f' Вершин: {n_num}\\n Ребер: {ed_num} \\n Плотность: {density}')\n",
    "        print(f' Компонент связности: {cc_num}\\n Доля вершин в максимальной по мощности компоненте связности: {cc_dens}')\n",
    "        \n",
    "        if len(H.nodes()) > 1000:\n",
    "            print('Snowball')\n",
    "            snowballs = [0.] * 10\n",
    "            for i in range(len(snowballs)):\n",
    "                snowball = nx.Graph()\n",
    "                snowflakes = set()\n",
    "                snowflake = random.choice(list(H.nodes()))\n",
    "                while len(snowball.nodes()) < 1000:\n",
    "                    for v in H[snowflake]:\n",
    "                        if v not in snowball:\n",
    "                            snowflakes.add(v)\n",
    "                            snowball.add_edge(snowflake, v)\n",
    "                    snowflake = random.choice(list(snowflakes))\n",
    "                snowballs[i] = snowball\n",
    "            R = 0.\n",
    "            diam = 0.\n",
    "            dist_90 = 0.\n",
    "            for i in range(len(snowballs)):\n",
    "                R += nx.radius(snowballs[i])\n",
    "                diam += nx.diameter(snowballs[i])\n",
    "                dists = dict(nx.all_pairs_shortest_path_length(snowballs[i]))\n",
    "                Dists = []\n",
    "                checked = set()\n",
    "                for u in dists:\n",
    "                    for v in dists[u]:\n",
    "                        if (v,u) not in checked:\n",
    "                            checked.add((u,v))\n",
    "                            Dists.append(dists[u][v])\n",
    "                Dists.sort()\n",
    "                dist_90 += Dists[90 * len(Dists) // 100]\n",
    "            R /= 10\n",
    "            diam /= 10\n",
    "            dist_90 /= 10\n",
    "        else:\n",
    "            print('Honest')\n",
    "            R = nx.radius(H)\n",
    "            diam = nx.diameter(H)\n",
    "            dists = dict(nx.all_pairs_shortest_path_length(H))\n",
    "            Dists = []\n",
    "            checked = set()\n",
    "            for u in dists:\n",
    "                for v in dists[u]:\n",
    "                    if (v,u) not in checked:\n",
    "                        checked.add((u,v))\n",
    "                        Dists.append(dists[u][v])\n",
    "            Dists.sort()\n",
    "            dist_90 = Dists[90 * len(Dists) // 100]\n",
    "        print(f' Наибольшая компонента связности: \\n 1.Радиус {R}\\n 2.Диаметр {diam}\\n 3.90 процентиль расстояния: {dist_90}')\n",
    "\n",
    "        Cl = nx.average_clustering(G)\n",
    "        print(f' Средний кластерный коэффициент: {Cl}')\n",
    "\n",
    "        r = nx.degree_pearson_correlation_coefficient(G)\n",
    "        print(f' Коэффициент ассортативности {r}')\n",
    "#######################################################\n",
    "# sampling the candidates list for 10000\n",
    "# pairs which will be connected\n",
    "# and 10000 which won't be (if sampling without replacement it chooses the lesser class size instead)\n",
    "# can be used to initiate and refresh example-label lists\n",
    "#######################################################\n",
    "    def sample(self, replace=True):\n",
    "        self.examples = []\n",
    "        self.ex_labels = []\n",
    "        self.ex_static_features = []\n",
    "        self.ex_temp_features = []\n",
    "        # indices\n",
    "        connected = []\n",
    "        disconnected = []\n",
    "\n",
    "        selection=[]\n",
    "\n",
    "        for i in range(len(self.cand_labels)):\n",
    "            if self.cand_labels[i] == 1:\n",
    "                connected.append(i)\n",
    "            else:\n",
    "                disconnected.append(i)\n",
    "        \n",
    "        print(f' Number of candidates {len(self.cand_labels)}')\n",
    "        print(f' Number of candidates which will be connected {len(connected)}')\n",
    "        print(f' Number of candidates which will remain unconnected {len(disconnected)}')\n",
    "        \n",
    "        if replace:\n",
    "            selection += random.choices(connected, k = 10000) + random.choices(disconnected, k=10000)\n",
    "        else:\n",
    "            if len(connected) > 10000 and len(disconnected) > 10000:\n",
    "                selection += random.sample(connected, 10000) + random.sample(disconnected, 10000)\n",
    "            elif len(connected) < len(disconnected):\n",
    "                selection += connected + random.sample(disconnected, len(connected))\n",
    "            else:\n",
    "                selection += disconnected + random.sample(connected, len(disconnected))\n",
    "            \n",
    "        for i in selection:\n",
    "            self.examples.append(self.candidates[i])\n",
    "            self.ex_labels.append(self.cand_labels[i])\n",
    "        print(f'Example set is of size {len(self.examples)}')\n",
    "\n",
    "    def calc_features(self, type='static'):\n",
    "        if type == 'static':\n",
    "            self.ex_static_features = []\n",
    "        elif type == 'temporal':\n",
    "            self.ex_temp_features = []\n",
    "        if len(self.examples) == 0:\n",
    "            print('First sample candidates!')\n",
    "        else:\n",
    "            # optimization due to examples containing similar pairs\n",
    "            checked = dict()\n",
    "            for ex in tqdm(self.examples):\n",
    "                if ex not in checked:\n",
    "                    if type == 'static':\n",
    "                        feature = self.static_feature(ex[0], ex[1])\n",
    "                        self.ex_static_features.append(feature)    \n",
    "                    elif type == 'temporal':\n",
    "                        feature = self.temporal_feature(ex[0], ex[1])\n",
    "                        self.ex_temp_features.append(feature)\n",
    "                    checked[ex] = feature\n",
    "                else:\n",
    "                    feature = checked[ex]\n",
    "                    if type == 'static':\n",
    "                        self.ex_static_features.append(feature)\n",
    "                    elif type == 'temporal':\n",
    "                        self.ex_temp_features.append(feature)\n",
    "            print(f'{type} features calculated')\n",
    "    \n",
    "# experimental functions. \n",
    "    def calc_features_all_cands(self):\n",
    "        self.examples = []\n",
    "        self.ex_labels = []\n",
    "        self.ex_static_features = []\n",
    "        self.ex_temp_features = []\n",
    "        for i in range(len(self.candidates)):\n",
    "            self.examples.append(self.candidates[i])\n",
    "            self.ex_labels.append(self.cand_labels[i])\n",
    "        self.calc_features()\n",
    "\n",
    "    def calc_all_features(self):\n",
    "        self.calc_features(type='static')\n",
    "        self.calc_features(type='temporal')\n",
    "\n",
    "#######################################################\n",
    "# prediction and scoring using logistic regression\n",
    "#######################################################\n",
    "    def predict(self, type='static'):\n",
    "        if type == 'static':\n",
    "            X_train, X_test, y_train, y_test = train_test_split(self.ex_static_features, self.ex_labels)\n",
    "        elif type == 'temporal':\n",
    "            X_train, X_test, y_train, y_test = train_test_split(self.ex_temp_features, self.ex_labels)\n",
    "        scaler_tr = StandardScaler().fit(X_train+X_test)\n",
    "        X_train = scaler_tr.transform(X_train)\n",
    "        clf = LogisticRegression().fit(X_train, y_train)\n",
    "        X_test = scaler_tr.transform(X_test)\n",
    "        y_pred = clf.predict_proba(X_test)\n",
    "        y_pred = y_pred[:,1]\n",
    "        return y_pred, y_test\n",
    "    \n",
    "    def ROC_score(self, y_pred, y_test):\n",
    "        fpr, tpr, _ = roc_curve(y_test, y_pred)\n",
    "        score = auc(fpr, tpr)\n",
    "        plt.title('Receiver Operating Characteristic')\n",
    "        plt.plot(fpr, tpr, 'b', label = 'AUC = %0.2f' % score)\n",
    "        plt.legend(loc = 'lower right')\n",
    "        plt.plot([0, 1], [0, 1],'r--')\n",
    "        plt.xlim([0, 1])\n",
    "        plt.ylim([0, 1])\n",
    "        plt.ylabel('True Positive Rate')\n",
    "        plt.xlabel('False Positive Rate')\n",
    "        plt.show()\n",
    "        return score\n",
    "    \n",
    "    def analysis(self, type='static'):\n",
    "        y_p, y_t = self.predict(type)\n",
    "        return self.ROC_score(y_p, y_t)\n",
    "\n",
    "# one button solution for created analyzer\n",
    "    def obs(self, type='static', exp=False, replace=True):\n",
    "        if exp and type == 'static':\n",
    "            self.calc_features_all_cands()\n",
    "        else:\n",
    "            self.sample(replace=replace)\n",
    "            self.calc_features(type)\n",
    "        return self.analysis(type)\n",
    "\n",
    "#######################################################\n",
    "# static features. computed on static (undirected, w/o parallel edges, w/o timestamps) graph variant\n",
    "# static feature of a node pair is a 4-component vector consisting of following metrics:\n",
    "# 1. number of common neighbours\n",
    "# 2. Adamic-Adar index\n",
    "# 3. Jaccard coefficient\n",
    "# 4. Preferential attachment metric\n",
    "# as they are defined, among other sources, in networkX library\n",
    "#######################################################\n",
    "    def static_feature(self, u, v):\n",
    "        feature = [0.] * 4\n",
    "        # common neighbours component\n",
    "        feature[0] = len(list(nx.common_neighbors(self.G_slice_static, u, v)))\n",
    "        # failsafe\n",
    "        if feature[0] == 0:\n",
    "            feature[1] = 0\n",
    "            feature[2] = 0\n",
    "        else:\n",
    "            # adamic-adar component\n",
    "            feature[1] = list(nx.adamic_adar_index(self.G_slice_static, [(u,v)]))[0][2]\n",
    "            # jaccard coefficient component\n",
    "            feature[2] = list(nx.jaccard_coefficient(self.G_slice_static, [(u,v)]))[0][2]\n",
    "        # preferential attachment component\n",
    "        feature[3] = list(nx.preferential_attachment(self.G_slice_static, [(u,v)]))[0][2]\n",
    "        return feature\n",
    "\n",
    "\n",
    "#######################################################\n",
    "# temporal features. edge activity with (event graph) or without (persistent graph) past event aggregation\n",
    "# temporal feature of a node pair in event is a 96 component vector\n",
    "# temporal feature of a node pair in persistent is a 12 component vector\n",
    "# which consists of all possible combinations for calculating \n",
    "# weighted topological feature as given in the article\n",
    "# (3 temporal weighting methods x 8 aggregation functions x 4 weighted features) event\n",
    "# (3 twm x 4 wtf) persistent\n",
    "# where weighted features accord to static metrics (CN, AA, JC, PA generalized for weighted case)\n",
    "#######################################################\n",
    "    def temporal_weighting(self, u, v, i=None, tw_type='lin'):\n",
    "        if self.persistent:\n",
    "            t = self.G_slice_static[u][v]['t']\n",
    "        else:\n",
    "            t = self.G_slice[u][v][i]['t']\n",
    "        T = (t - self.t_min)/(self.t_max - self.t_min)\n",
    "        if tw_type == 'lin':\n",
    "            return 0.2 + 0.8 * T\n",
    "        elif tw_type == 'exp':\n",
    "            return 0.2 + 0.8 * (math.exp(3*T) - 1)/(math.e ** 3 - 1)\n",
    "        elif tw_type == 'sqrt':\n",
    "            return 0.2 + 0.8 * math.sqrt(T)\n",
    "\n",
    "    # past event aggregation with respect to example sourcing slice \n",
    "    # upper timestamp\n",
    "    def past_event_aggregation(self, u, v, pea_type, tw_type):\n",
    "        if self.persistent:\n",
    "            return 'Some error. This graph doesnt need aggregation'\n",
    "        weights = []\n",
    "        weightsum = 0.\n",
    "        for i in self.G_slice[u][v]:\n",
    "            weight = self.temporal_weighting(u,v,i,tw_type)\n",
    "            weights.append(weight)\n",
    "            weightsum += weight\n",
    "        weights.sort()\n",
    "        n = len(weights)\n",
    "        if pea_type == 'sum':\n",
    "            return weightsum\n",
    "        elif pea_type == 'mean':\n",
    "            return weightsum / n\n",
    "        elif pea_type == 'var':\n",
    "            mean = weightsum / n\n",
    "            variance = 0.\n",
    "            for w in weights:\n",
    "                variance += (w - mean) ** 2\n",
    "            return variance / n \n",
    "        elif pea_type == '0-q':\n",
    "            return weights[0]\n",
    "        elif pea_type == '1-q':\n",
    "            return weights[n // 4]\n",
    "        elif pea_type == '2-q':\n",
    "            return weights[n // 2]\n",
    "        elif pea_type == '3-q':\n",
    "            return weights[3 * n // 4]\n",
    "        elif pea_type == '4-q':\n",
    "            return weights[n - 1]\n",
    "        else:\n",
    "            return 'Unknown PEA descriptor'\n",
    "\n",
    "    # calculate temporal feature vector for a node-pair.\n",
    "    # if analyzer is in persistent mode, it returns 12-component vector\n",
    "    # which corresponds to IIB method in the article\n",
    "    # otherwise it returns 96 components vector according to IIA method    \n",
    "    def temporal_feature(self, u, v):\n",
    "        f = []\n",
    "        if not self.persistent:\n",
    "            for tw in self.temporal_weighting_variants:\n",
    "                for ag in self.past_event_aggregation_variants:\n",
    "                    for w in self.weighted_topological_feature_variants:\n",
    "                        if w == 'cn':\n",
    "                            combo = 0.\n",
    "                            for z in nx.common_neighbors(self.G_slice_static, u, v):\n",
    "                                combo += self.past_event_aggregation(u,z,ag,tw) +\\\n",
    "                                    self.past_event_aggregation(v,z,ag,tw)\n",
    "                        elif w == 'aa':\n",
    "                            combo = 0.\n",
    "                            for z in nx.common_neighbors(self.G_slice_static, u, v):\n",
    "                                den = self.past_event_aggregation(u,z,ag,tw) +\\\n",
    "                                    self.past_event_aggregation(v,z,ag,tw)\n",
    "                                z_wtf = 0.\n",
    "                                for x in self.G_slice_static[z]:\n",
    "                                    z_wtf += self.past_event_aggregation(z, x, ag, tw)\n",
    "                                divisor = math.log(1 + z_wtf)\n",
    "                                if divisor == 0:\n",
    "                                    combo += 0.\n",
    "                                else:\n",
    "                                    combo += den / divisor\n",
    "                        elif w == 'jc':\n",
    "                            combo = 0.\n",
    "                            for z in nx.common_neighbors(self.G_slice_static, u, v):\n",
    "                                den = self.past_event_aggregation(u,z,ag,tw) +\\\n",
    "                                    self.past_event_aggregation(v,z,ag,tw)\n",
    "                                u_wtf = 0.\n",
    "                                for x in self.G_slice_static[u]:\n",
    "                                    u_wtf += self.past_event_aggregation(u,x,ag,tw)\n",
    "                                v_wtf = 0.\n",
    "                                for y in self.G_slice_static[v]:\n",
    "                                    v_wtf += self.past_event_aggregation(v,y,ag,tw)\n",
    "                                divisor = u_wtf + v_wtf\n",
    "                                if divisor == 0:\n",
    "                                    combo += 0.\n",
    "                                else:\n",
    "                                    combo += den / divisor\n",
    "                        elif w == 'pa':\n",
    "                            u_wtf = 0.\n",
    "                            for x in self.G_slice_static[u]:\n",
    "                                u_wtf += self.past_event_aggregation(u,x,ag,tw)\n",
    "                            v_wtf = 0.\n",
    "                            for y in self.G_slice_static[v]:\n",
    "                                v_wtf += self.past_event_aggregation(v,y,ag,tw)\n",
    "                            combo = u_wtf * v_wtf\n",
    "                        else:\n",
    "                            combo = 0.\n",
    "                            print('Unknown WTF descriptor')\n",
    "                        f.append(combo)\n",
    "        else:\n",
    "            for tw in self.temporal_weighting_variants:\n",
    "                for w in self.weighted_topological_feature_variants:\n",
    "                    if w == 'cn':\n",
    "                        combo = 0.\n",
    "                        for z in nx.common_neighbors(self.G_slice_static, u, v):\n",
    "                            combo += self.temporal_weighting(u,z,tw) +\\\n",
    "                                    self.temporal_weighting(z,v,tw)\n",
    "                    elif w == 'aa':\n",
    "                        combo = 0.\n",
    "                        for z in nx.common_neighbors(self.G_slice_static, u, v):\n",
    "                            den = self.temporal_weighting(u,z,tw) +\\\n",
    "                                    self.temporal_weighting(v,z,tw)\n",
    "                            z_wtf = 0.\n",
    "                            for x in self.G_slice_static[z]:\n",
    "                                z_wtf += self.temporal_weighting(z, x, tw)\n",
    "                            divisor = math.log(1 + z_wtf)\n",
    "                            if divisor == 0:\n",
    "                                combo += 0.\n",
    "                            else:\n",
    "                                combo += den / divisor\n",
    "                    elif w == 'jc':\n",
    "                        combo = 0.\n",
    "                        for z in nx.common_neighbors(self.G_slice_static, u, v):\n",
    "                            den = self.temporal_weighting(u,z,tw) +\\\n",
    "                                    self.temporal_weighting(v,z,tw)\n",
    "                            u_wtf = 0.\n",
    "                            for x in self.G_slice_static[u]:\n",
    "                                u_wtf += self.temporal_weighting(u,x,tw)\n",
    "                            v_wtf = 0.\n",
    "                            for y in self.G_slice_static[v]:\n",
    "                                v_wtf += self.temporal_weighting(v,y,tw)\n",
    "                            divisor = u_wtf + v_wtf\n",
    "                            if divisor == 0:\n",
    "                                combo += 0.\n",
    "                            else:\n",
    "                                combo += den / divisor\n",
    "                    elif w == 'pa':\n",
    "                        u_wtf = 0.\n",
    "                        for x in self.G_slice_static[u]:\n",
    "                            u_wtf += self.temporal_weighting(u,x,tw)\n",
    "                        v_wtf = 0.\n",
    "                        for y in self.G_slice_static[v]:\n",
    "                            v_wtf += self.temporal_weighting(v,y,tw)\n",
    "                        combo = u_wtf * v_wtf\n",
    "                    else:\n",
    "                        combo = 0.\n",
    "                        print('Unknown WTF descriptor')\n",
    "                    f.append(combo)\n",
    "        return f"
   ]
  },
  {
   "cell_type": "markdown",
   "metadata": {},
   "source": [
    "First graph 'opsahl'."
   ]
  },
  {
   "cell_type": "code",
   "execution_count": 3,
   "metadata": {},
   "outputs": [
    {
     "name": "stdout",
     "output_type": "stream",
     "text": [
      "Total number of edges 59835\n"
     ]
    },
    {
     "name": "stderr",
     "output_type": "stream",
     "text": [
      "100%|██████████| 1449/1449 [00:03<00:00, 372.81it/s]\n"
     ]
    }
   ],
   "source": [
    "lab1 = GraphAnalyzer(fpath='data/out.opsahl-ucsocial')"
   ]
  },
  {
   "cell_type": "code",
   "execution_count": 4,
   "metadata": {},
   "outputs": [
    {
     "name": "stdout",
     "output_type": "stream",
     "text": [
      " Статический граф: \n",
      " Вершин: 1899\n",
      " Ребер: 13838 \n",
      " Плотность: 0.007678601848568738\n",
      " Компонент связности: 4\n",
      " Доля вершин в максимальной по мощности компоненте связности: 0.9968404423380727\n",
      "Snowball\n",
      " Наибольшая компонента связности: \n",
      " 1.Радиус 5.9\n",
      " 2.Диаметр 11.3\n",
      " 3.90 процентиль расстояния: 7.3\n",
      " Средний кластерный коэффициент: 0.10939892385364355\n",
      " Коэффициент ассортативности -0.18777578714668058\n"
     ]
    }
   ],
   "source": [
    "lab1.explore_graph()"
   ]
  },
  {
   "cell_type": "code",
   "execution_count": 9,
   "metadata": {},
   "outputs": [
    {
     "name": "stdout",
     "output_type": "stream",
     "text": [
      "Warning. Manually switched to persistent mode. Computations will take significantly shorter but may be less accurate\n"
     ]
    }
   ],
   "source": [
    "lab1.switch_persistence()"
   ]
  },
  {
   "cell_type": "code",
   "execution_count": 6,
   "metadata": {},
   "outputs": [
    {
     "name": "stdout",
     "output_type": "stream",
     "text": [
      " Number of candidates 219633\n",
      " Number of candidates which will be connected 1027\n",
      " Number of candidates which will remain unconnected 218606\n",
      "Example set is of size 2054\n"
     ]
    },
    {
     "name": "stderr",
     "output_type": "stream",
     "text": [
      "100%|██████████| 2054/2054 [00:00<00:00, 11074.05it/s]"
     ]
    },
    {
     "name": "stdout",
     "output_type": "stream",
     "text": [
      "static features calculated\n"
     ]
    },
    {
     "name": "stderr",
     "output_type": "stream",
     "text": [
      "\n"
     ]
    },
    {
     "data": {
      "image/png": "[encoded data removed]",
      "text/plain": [
       "<Figure size 432x288 with 1 Axes>"
      ]
     },
     "metadata": {
      "needs_background": "light"
     },
     "output_type": "display_data"
    },
    {
     "data": {
      "text/plain": [
       "0.7384463961235616"
      ]
     },
     "execution_count": 6,
     "metadata": {},
     "output_type": "execute_result"
    }
   ],
   "source": [
    "lab1.obs(replace=False)"
   ]
  },
  {
   "cell_type": "code",
   "execution_count": 10,
   "metadata": {},
   "outputs": [
    {
     "name": "stdout",
     "output_type": "stream",
     "text": [
      " Number of candidates 219633\n",
      " Number of candidates which will be connected 1027\n",
      " Number of candidates which will remain unconnected 218606\n",
      "Example set is of size 20000\n"
     ]
    },
    {
     "name": "stderr",
     "output_type": "stream",
     "text": [
      "100%|██████████| 20000/20000 [00:09<00:00, 2051.53it/s] \n"
     ]
    },
    {
     "name": "stdout",
     "output_type": "stream",
     "text": [
      "temporal features calculated\n"
     ]
    },
    {
     "data": {
      "image/png": "[encoded data removed]",
      "text/plain": [
       "<Figure size 432x288 with 1 Axes>"
      ]
     },
     "metadata": {
      "needs_background": "light"
     },
     "output_type": "display_data"
    },
    {
     "data": {
      "text/plain": [
       "0.7387831766970979"
      ]
     },
     "execution_count": 10,
     "metadata": {},
     "output_type": "execute_result"
    }
   ],
   "source": [
    "lab1.obs('temporal')"
   ]
  },
  {
   "cell_type": "markdown",
   "metadata": {},
   "source": [
    "Second graph \"rado\""
   ]
  },
  {
   "cell_type": "code",
   "execution_count": 41,
   "metadata": {},
   "outputs": [
    {
     "name": "stdout",
     "output_type": "stream",
     "text": [
      "Total number of edges 82927\n"
     ]
    },
    {
     "name": "stderr",
     "output_type": "stream",
     "text": [
      "100%|██████████| 166/166 [00:00<00:00, 421.41it/s]\n"
     ]
    }
   ],
   "source": [
    "lab2 = GraphAnalyzer(fpath='data/out.radoslaw_email_email')"
   ]
  },
  {
   "cell_type": "code",
   "execution_count": 42,
   "metadata": {},
   "outputs": [
    {
     "name": "stdout",
     "output_type": "stream",
     "text": [
      " Статический граф: \n",
      " Вершин: 167\n",
      " Ребер: 3250 \n",
      " Плотность: 0.23447081740134187\n",
      " Компонент связности: 1\n",
      " Доля вершин в максимальной по мощности компоненте связности: 1.0\n",
      "Honest\n",
      " Наибольшая компонента связности: \n",
      " 1.Радиус 3\n",
      " 2.Диаметр 5\n",
      " 3.90 процентиль расстояния: 3\n",
      " Средний кластерный коэффициент: 0.5918632085486949\n",
      " Коэффициент ассортативности -0.2951772978930206\n"
     ]
    }
   ],
   "source": [
    "lab2.explore_graph()"
   ]
  },
  {
   "cell_type": "code",
   "execution_count": 43,
   "metadata": {},
   "outputs": [
    {
     "name": "stdout",
     "output_type": "stream",
     "text": [
      " Number of candidates 8101\n",
      " Number of candidates which will be connected 262\n",
      " Number of candidates which will remain unconnected 7839\n",
      "Example set is of size 20000\n"
     ]
    },
    {
     "name": "stderr",
     "output_type": "stream",
     "text": [
      "100%|██████████| 20000/20000 [00:00<00:00, 36866.57it/s] "
     ]
    },
    {
     "name": "stdout",
     "output_type": "stream",
     "text": [
      "static features calculated\n"
     ]
    },
    {
     "name": "stderr",
     "output_type": "stream",
     "text": [
      "\n"
     ]
    },
    {
     "data": {
      "image/png": "[encoded data removed]",
      "text/plain": [
       "<Figure size 432x288 with 1 Axes>"
      ]
     },
     "metadata": {
      "needs_background": "light"
     },
     "output_type": "display_data"
    },
    {
     "data": {
      "text/plain": [
       "0.8622162618506922"
      ]
     },
     "execution_count": 43,
     "metadata": {},
     "output_type": "execute_result"
    }
   ],
   "source": [
    "lab2.obs()"
   ]
  },
  {
   "cell_type": "code",
   "execution_count": 44,
   "metadata": {},
   "outputs": [
    {
     "name": "stdout",
     "output_type": "stream",
     "text": [
      "Warning. Manually switched to persistent mode. Computations will take significantly shorter but may be less accurate\n"
     ]
    }
   ],
   "source": [
    "lab2.switch_persistence()"
   ]
  },
  {
   "cell_type": "code",
   "execution_count": 45,
   "metadata": {},
   "outputs": [
    {
     "name": "stdout",
     "output_type": "stream",
     "text": [
      " Number of candidates 8101\n",
      " Number of candidates which will be connected 262\n",
      " Number of candidates which will remain unconnected 7839\n",
      "Example set is of size 20000\n"
     ]
    },
    {
     "name": "stderr",
     "output_type": "stream",
     "text": [
      "100%|██████████| 20000/20000 [00:22<00:00, 877.09it/s]  "
     ]
    },
    {
     "name": "stdout",
     "output_type": "stream",
     "text": [
      "temporal features calculated\n"
     ]
    },
    {
     "name": "stderr",
     "output_type": "stream",
     "text": [
      "\n"
     ]
    },
    {
     "data": {
      "image/png": "[encoded data removed]",
      "text/plain": [
       "<Figure size 432x288 with 1 Axes>"
      ]
     },
     "metadata": {
      "needs_background": "light"
     },
     "output_type": "display_data"
    },
    {
     "data": {
      "text/plain": [
       "0.8696028767159243"
      ]
     },
     "execution_count": 45,
     "metadata": {},
     "output_type": "execute_result"
    }
   ],
   "source": [
    "lab2.obs('temporal')"
   ]
  },
  {
   "cell_type": "markdown",
   "metadata": {},
   "source": [
    "Third graph \"bitA\""
   ]
  },
  {
   "cell_type": "code",
   "execution_count": 46,
   "metadata": {},
   "outputs": [
    {
     "name": "stdout",
     "output_type": "stream",
     "text": [
      "Total number of edges 24186\n"
     ]
    },
    {
     "name": "stderr",
     "output_type": "stream",
     "text": [
      "100%|██████████| 2776/2776 [00:07<00:00, 383.84it/s]\n"
     ]
    }
   ],
   "source": [
    "lab3 = GraphAnalyzer(fpath='data/out.soc-sign-bitcoinalpha')"
   ]
  },
  {
   "cell_type": "code",
   "execution_count": 47,
   "metadata": {},
   "outputs": [
    {
     "name": "stdout",
     "output_type": "stream",
     "text": [
      " Статический граф: \n",
      " Вершин: 3783\n",
      " Ребер: 14124 \n",
      " Плотность: 0.001974375888794159\n",
      " Компонент связности: 5\n",
      " Доля вершин в максимальной по мощности компоненте связности: 0.9978852762357917\n",
      "Snowball\n",
      " Наибольшая компонента связности: \n",
      " 1.Радиус 5.1\n",
      " 2.Диаметр 9.8\n",
      " 3.90 процентиль расстояния: 6.7\n",
      " Средний кластерный коэффициент: 0.1766290303590767\n",
      " Коэффициент ассортативности -0.168515761121504\n"
     ]
    }
   ],
   "source": [
    "lab3.explore_graph()"
   ]
  },
  {
   "cell_type": "code",
   "execution_count": 48,
   "metadata": {},
   "outputs": [
    {
     "name": "stdout",
     "output_type": "stream",
     "text": [
      "Warning. Manually switched to persistent mode. Computations will take significantly shorter but may be less accurate\n"
     ]
    }
   ],
   "source": [
    "lab3.switch_persistence()"
   ]
  },
  {
   "cell_type": "code",
   "execution_count": 49,
   "metadata": {},
   "outputs": [
    {
     "name": "stdout",
     "output_type": "stream",
     "text": [
      " Number of candidates 290062\n",
      " Number of candidates which will be connected 735\n",
      " Number of candidates which will remain unconnected 289327\n",
      "Example set is of size 20000\n"
     ]
    },
    {
     "name": "stderr",
     "output_type": "stream",
     "text": [
      "100%|██████████| 20000/20000 [00:00<00:00, 30504.34it/s]\n"
     ]
    },
    {
     "name": "stdout",
     "output_type": "stream",
     "text": [
      "static features calculated\n"
     ]
    },
    {
     "data": {
      "image/png": "[encoded data removed]",
      "text/plain": [
       "<Figure size 432x288 with 1 Axes>"
      ]
     },
     "metadata": {
      "needs_background": "light"
     },
     "output_type": "display_data"
    },
    {
     "data": {
      "text/plain": [
       "0.8785564605690337"
      ]
     },
     "execution_count": 49,
     "metadata": {},
     "output_type": "execute_result"
    }
   ],
   "source": [
    "lab3.obs()"
   ]
  },
  {
   "cell_type": "code",
   "execution_count": 50,
   "metadata": {},
   "outputs": [
    {
     "name": "stdout",
     "output_type": "stream",
     "text": [
      " Number of candidates 290062\n",
      " Number of candidates which will be connected 735\n",
      " Number of candidates which will remain unconnected 289327\n",
      "Example set is of size 20000\n"
     ]
    },
    {
     "name": "stderr",
     "output_type": "stream",
     "text": [
      "100%|██████████| 20000/20000 [00:09<00:00, 2149.71it/s] \n"
     ]
    },
    {
     "name": "stdout",
     "output_type": "stream",
     "text": [
      "temporal features calculated\n"
     ]
    },
    {
     "data": {
      "image/png": "[encoded data removed]",
      "text/plain": [
       "<Figure size 432x288 with 1 Axes>"
      ]
     },
     "metadata": {
      "needs_background": "light"
     },
     "output_type": "display_data"
    },
    {
     "data": {
      "text/plain": [
       "0.9085593918027424"
      ]
     },
     "execution_count": 50,
     "metadata": {},
     "output_type": "execute_result"
    }
   ],
   "source": [
    "lab3.obs('temporal')"
   ]
  },
  {
   "cell_type": "markdown",
   "metadata": {},
   "source": [
    "4 graph SX-MO"
   ]
  },
  {
   "cell_type": "code",
   "execution_count": 4,
   "metadata": {},
   "outputs": [
    {
     "name": "stdout",
     "output_type": "stream",
     "text": [
      "Total number of edges 506550\n"
     ]
    },
    {
     "name": "stderr",
     "output_type": "stream",
     "text": [
      "100%|██████████| 15681/15681 [01:20<00:00, 194.01it/s]\n"
     ]
    }
   ],
   "source": [
    "lab4 = GraphAnalyzer(fpath='data/out.sx-mathoverflow')"
   ]
  },
  {
   "cell_type": "code",
   "execution_count": 5,
   "metadata": {},
   "outputs": [
    {
     "name": "stdout",
     "output_type": "stream",
     "text": [
      " Статический граф: \n",
      " Вершин: 24759\n",
      " Ребер: 187986 \n",
      " Плотность: 0.0006133478457020728\n",
      " Компонент связности: 45\n",
      " Доля вершин в максимальной по мощности компоненте связности: 0.9963245688436528\n",
      "Snowball\n",
      " Наибольшая компонента связности: \n",
      " 1.Радиус 2.8\n",
      " 2.Диаметр 4.8\n",
      " 3.90 процентиль расстояния: 3.5\n",
      " Средний кластерный коэффициент: 0.31283995486461874\n",
      " Коэффициент ассортативности -0.21518125433863328\n"
     ]
    }
   ],
   "source": [
    "lab4.explore_graph()"
   ]
  },
  {
   "cell_type": "code",
   "execution_count": 6,
   "metadata": {},
   "outputs": [
    {
     "name": "stdout",
     "output_type": "stream",
     "text": [
      "Warning. Manually switched to persistent mode. Computations will take significantly shorter but may be less accurate\n"
     ]
    }
   ],
   "source": [
    "lab4.switch_persistence()"
   ]
  },
  {
   "cell_type": "code",
   "execution_count": 7,
   "metadata": {},
   "outputs": [
    {
     "name": "stdout",
     "output_type": "stream",
     "text": [
      " Number of candidates 13322190\n",
      " Number of candidates which will be connected 17612\n",
      " Number of candidates which will remain unconnected 13304578\n",
      "Example set is of size 20000\n"
     ]
    },
    {
     "name": "stderr",
     "output_type": "stream",
     "text": [
      "100%|██████████| 20000/20000 [00:06<00:00, 2977.48it/s]\n"
     ]
    },
    {
     "name": "stdout",
     "output_type": "stream",
     "text": [
      "static features calculated\n"
     ]
    },
    {
     "data": {
      "image/png": "[encoded data removed]",
      "text/plain": [
       "<Figure size 432x288 with 1 Axes>"
      ]
     },
     "metadata": {
      "needs_background": "light"
     },
     "output_type": "display_data"
    },
    {
     "data": {
      "text/plain": [
       "0.86164412912294"
      ]
     },
     "execution_count": 7,
     "metadata": {},
     "output_type": "execute_result"
    }
   ],
   "source": [
    "lab4.obs()"
   ]
  },
  {
   "cell_type": "code",
   "execution_count": 8,
   "metadata": {},
   "outputs": [
    {
     "name": "stdout",
     "output_type": "stream",
     "text": [
      " Number of candidates 13322190\n",
      " Number of candidates which will be connected 17612\n",
      " Number of candidates which will remain unconnected 13304578\n",
      "Example set is of size 20000\n"
     ]
    },
    {
     "name": "stderr",
     "output_type": "stream",
     "text": [
      "100%|██████████| 20000/20000 [05:31<00:00, 60.40it/s] \n"
     ]
    },
    {
     "name": "stdout",
     "output_type": "stream",
     "text": [
      "temporal features calculated\n"
     ]
    },
    {
     "data": {
      "image/png": "[encoded data removed]",
      "text/plain": [
       "<Figure size 432x288 with 1 Axes>"
      ]
     },
     "metadata": {
      "needs_background": "light"
     },
     "output_type": "display_data"
    },
    {
     "data": {
      "text/plain": [
       "0.8883330445310691"
      ]
     },
     "execution_count": 8,
     "metadata": {},
     "output_type": "execute_result"
    }
   ],
   "source": [
    "lab4.obs('temporal')"
   ]
  }
 ],
 "metadata": {
  "kernelspec": {
   "display_name": "base",
   "language": "python",
   "name": "python3"
  },
  "language_info": {
   "codemirror_mode": {
    "name": "ipython",
    "version": 3
   },
   "file_extension": ".py",
   "mimetype": "text/x-python",
   "name": "python",
   "nbconvert_exporter": "python",
   "pygments_lexer": "ipython3",
   "version": "3.9.18"
  },
  "orig_nbformat": 4
 },
 "nbformat": 4,
 "nbformat_minor": 2
}
